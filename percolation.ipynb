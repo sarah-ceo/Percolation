{
 "cells": [
  {
   "cell_type": "markdown",
   "metadata": {},
   "source": [
    "<b>Percolation</b>"
   ]
  },
  {
   "cell_type": "code",
   "execution_count": 1,
   "metadata": {},
   "outputs": [
    {
     "name": "stdout",
     "output_type": "stream",
     "text": [
      "Collecting package metadata (current_repodata.json): ...working... done\n",
      "Solving environment: ...working... done\n",
      "\n",
      "# All requested packages already installed.\n",
      "\n"
     ]
    }
   ],
   "source": [
    "# Cellule d'installation des packeges nécessaires (il faut au préalable installer graphviz sur Windows)\n",
    "\n",
    "import string\n",
    "import sys\n",
    "\n",
    "# Install conda packages in the current Jupyter kernel\n",
    "!conda update --yes -n base -c defaults conda\n",
    "\n",
    "try:\n",
    "    from tkinter import *\n",
    "except:\n",
    "    !conda install --yes --prefix {sys.prefix} tk\n",
    "    from tkinter import *\n",
    "    \n",
    "try:\n",
    "    from PIL import Image, ImageTk\n",
    "except:\n",
    "    !conda install --yes --prefix {sys.prefix} pillow\n",
    "    from PIL import Image, ImageTk\n",
    "    \n",
    "try:\n",
    "    import numpy as np\n",
    "except:\n",
    "    !conda install --yes --prefix {sys.prefix} numpy\n",
    "    import numpy as np\n",
    "    \n",
    "try:\n",
    "    import graphviz\n",
    "except:\n",
    "    !conda install --yes --prefix {sys.prefix} python-graphviz\n",
    "    import graphviz\n",
    "\n",
    "try:\n",
    "    import pygraphviz\n",
    "except:\n",
    "    !conda install -c alubbock --yes --prefix {sys.prefix} graphviz pygraphviz\n",
    "    import pygraphviz\n",
    "\n",
    "try:\n",
    "    import networkx as nx\n",
    "except:\n",
    "    !conda install --yes --prefix {sys.prefix} networkx\n",
    "    import networkx as nx\n",
    "\n",
    "#On utilise dot -Kneato avec pygraphviz (neato), mais il faut qu'il soit lancé avec tous les droits:\n",
    "!dot -c"
   ]
  },
  {
   "cell_type": "code",
   "execution_count": 2,
   "metadata": {},
   "outputs": [
    {
     "data": {
      "text/plain": [
       "'\\nA = np.array([(0, 0.3, 0.4, 0.7),\\n               (0.3, 0, 0.9, 0.2),\\n               (0.4, 0.9, 0, 0.1),\\n               (0.7, 0.2, 0.1, 0)\\n               ])*10\\n\\nl = len(A)*[0]\\nl[1] = 1\\n\\ngraph = Graph(A, l)\\n'"
      ]
     },
     "execution_count": 2,
     "metadata": {},
     "output_type": "execute_result"
    }
   ],
   "source": [
    "# Classe permettant la construction du graphe avec graphviz/pygraphviz\n",
    "\n",
    "class Graph():\n",
    "    def __init__(self, distances, labels, image_path=\"./out.png\"):\n",
    "        dt = [('len', float)]\n",
    "        distances = distances.view(dt)\n",
    "        \n",
    "        self.G = nx.from_numpy_matrix(distances)\n",
    "        \n",
    "        positives = np.where(np.array(labels)==1)[0]\n",
    "        color = [\"red\"]*len(positives)\n",
    "        positives_attr = dict(zip(positives, color))\n",
    "        nx.set_node_attributes(self.G, positives_attr, 'color')\n",
    "        \n",
    "        negatives = np.where(np.array(labels)==0)[0]\n",
    "        color = [\"green\"]*len(negatives)\n",
    "        negatives_attr = dict(zip(negatives, color))\n",
    "        nx.set_node_attributes(self.G, negatives_attr, 'color')\n",
    "            \n",
    "        self.G = nx.relabel_nodes(self.G, dict(zip(range(len(self.G.nodes())),string.ascii_uppercase)))\n",
    "        \n",
    "        self.G = nx.drawing.nx_agraph.to_agraph(self.G)\n",
    "        self.G.node_attr.update(style=\"filled\")\n",
    "        self.G.edge_attr.update(width=\"2.0\")\n",
    "        self.G.draw(image_path, format='png', prog='dot', args='-Kneato') #neato, dot, twopi, circo, fdp, nop, wc, acyclic, gvpr, gvcolor, ccomps, sccmap, tred, sfdp, unflatten\n",
    "\n",
    "### TEST\n",
    "\"\"\"\n",
    "A = np.array([(0, 0.3, 0.4, 0.7),\n",
    "               (0.3, 0, 0.9, 0.2),\n",
    "               (0.4, 0.9, 0, 0.1),\n",
    "               (0.7, 0.2, 0.1, 0)\n",
    "               ])*10\n",
    "\n",
    "l = len(A)*[0]\n",
    "l[1] = 1\n",
    "\n",
    "graph = Graph(A, l)\n",
    "\"\"\""
   ]
  },
  {
   "cell_type": "code",
   "execution_count": 3,
   "metadata": {},
   "outputs": [
    {
     "data": {
      "text/plain": [
       "'\\npercolation = Percolation()\\npercolation.update()\\npercolation.update()\\npercolation.update()\\n'"
      ]
     },
     "execution_count": 3,
     "metadata": {},
     "output_type": "execute_result"
    }
   ],
   "source": [
    "# Classe permettant de mettre à jour le graphe au fur et à mesure de la percolation\n",
    "\n",
    "class Percolation():\n",
    "    def __init__(self, n=4, img=\"./out.png\", safety_distance=2):\n",
    "        self.x = np.zeros([n, n])\n",
    "        indices = np.triu_indices(n, 1)\n",
    "        distances = list(np.random.randint(1, 10, size=len(indices[0])))\n",
    "        self.x[indices] = distances\n",
    "        self.x += self.x.T\n",
    "        self.safety_distance = safety_distance\n",
    "        self.states = n*[0]\n",
    "        self.img = img\n",
    "        graph = Graph(self.x, self.states, self.img)\n",
    "    \n",
    "    def update(self):\n",
    "        if (np.array(self.states) <= 0).all():\n",
    "            patient_zero = np.random.randint(0, len(self.states))\n",
    "            self.states[patient_zero] = 1\n",
    "        else:\n",
    "            positive_patients = list(np.where(np.array(self.states)==1)[0])\n",
    "            \n",
    "            for positive_patient in positive_patients:\n",
    "                too_close_people =  np.where(self.x <= self.safety_distance)\n",
    "                patients_contacts = too_close_people[1][np.where(too_close_people[0] == positive_patient)[0]]\n",
    "                \n",
    "                if len(patients_contacts)>0:\n",
    "                \n",
    "                    self.states = np.array(self.states)\n",
    "                    self.states[patients_contacts] = 1\n",
    "                    self.states = list(self.states)\n",
    "        graph = Graph(self.x, self.states, self.img)\n",
    "\n",
    "### TEST\n",
    "\"\"\"\n",
    "percolation = Percolation()\n",
    "percolation.update()\n",
    "percolation.update()\n",
    "percolation.update()\n",
    "\"\"\""
   ]
  },
  {
   "cell_type": "code",
   "execution_count": 4,
   "metadata": {},
   "outputs": [
    {
     "data": {
      "text/plain": [
       "'\\nroot = Toplevel()\\napp = Interface(master=root)\\nroot.wm_title(\"Percolation interface\")\\nroot.geometry(\"1000x1000\")\\n\\napp.updater()\\n\\nroot.mainloop()\\n'"
      ]
     },
     "execution_count": 4,
     "metadata": {},
     "output_type": "execute_result"
    }
   ],
   "source": [
    "# Classe permettant d'afficher les résultats avec Tkinter\n",
    "\n",
    "class Interface(Frame):\n",
    "    def __init__(self, master=None, image_path=\"./out.png\", nodes=4, safety_distance=2):\n",
    "        Frame.__init__(self, master)\n",
    "        self.master = master\n",
    "        self.pack(fill=BOTH, expand=1)\n",
    "        self.image_path = image_path\n",
    "        self.percolation = Percolation(nodes, image_path, safety_distance)\n",
    "        img = ImageTk.PhotoImage(Image.open(self.image_path))\n",
    "        self.panel = Label(self.master, image=img)\n",
    "        self.panel.pack(side=\"bottom\", fill=\"both\", expand=\"yes\")\n",
    "        \n",
    "    def updater(self):\n",
    "        self.percolation.update()\n",
    "        img = ImageTk.PhotoImage(Image.open(self.image_path))\n",
    "        self.panel.configure(image=img)\n",
    "        self.panel.image = img\n",
    "        self.after(1000, self.updater)\n",
    "\n",
    "### TEST\n",
    "\"\"\"\n",
    "root = Tk()\n",
    "app = Interface(master=root)\n",
    "root.wm_title(\"Percolation interface\")\n",
    "root.geometry(\"1000x1000\")\n",
    "\n",
    "app.updater()\n",
    "\n",
    "root.mainloop()\n",
    "\"\"\""
   ]
  },
  {
   "cell_type": "code",
   "execution_count": 5,
   "metadata": {},
   "outputs": [],
   "source": [
    "# Test avec n personnes et une distanciation de 2 sur 10\n",
    "\n",
    "for i in range(3):\n",
    "    out_path = \"./out.png\"\n",
    "    n = 10\n",
    "    safe_distance = 2\n",
    "\n",
    "    root = Tk()\n",
    "    app = Interface(master=root, image_path=out_path, nodes=n, safety_distance=safe_distance)\n",
    "    root.wm_title(\"Percolation interface\")\n",
    "    root.geometry(\"1000x1000\")\n",
    "\n",
    "    app.updater()\n",
    "\n",
    "    root.mainloop()"
   ]
  },
  {
   "cell_type": "code",
   "execution_count": null,
   "metadata": {},
   "outputs": [],
   "source": []
  }
 ],
 "metadata": {
  "kernelspec": {
   "display_name": "Python 3",
   "language": "python",
   "name": "python3"
  },
  "language_info": {
   "codemirror_mode": {
    "name": "ipython",
    "version": 3
   },
   "file_extension": ".py",
   "mimetype": "text/x-python",
   "name": "python",
   "nbconvert_exporter": "python",
   "pygments_lexer": "ipython3",
   "version": "3.8.5"
  }
 },
 "nbformat": 4,
 "nbformat_minor": 4
}
